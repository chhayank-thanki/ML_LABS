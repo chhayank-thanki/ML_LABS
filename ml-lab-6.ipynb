{
 "cells": [
  {
   "cell_type": "code",
   "execution_count": 1,
   "id": "a363503f",
   "metadata": {
    "execution": {
     "iopub.execute_input": "2023-11-06T07:30:26.118227Z",
     "iopub.status.busy": "2023-11-06T07:30:26.117924Z",
     "iopub.status.idle": "2023-11-06T07:30:26.398491Z",
     "shell.execute_reply": "2023-11-06T07:30:26.397784Z"
    },
    "papermill": {
     "duration": 0.287051,
     "end_time": "2023-11-06T07:30:26.401203",
     "exception": false,
     "start_time": "2023-11-06T07:30:26.114152",
     "status": "completed"
    },
    "tags": []
   },
   "outputs": [],
   "source": [
    "# Machine learning Lab - 6 (Practical - 6)\n",
    "\n",
    "# Importing needed libreries \n",
    "import numpy as numpy # To perform numeric operations\n",
    "import pandas as pandas # To perform pandas series operations"
   ]
  },
  {
   "cell_type": "code",
   "execution_count": 2,
   "id": "edff5ce7",
   "metadata": {
    "execution": {
     "iopub.execute_input": "2023-11-06T07:30:26.408607Z",
     "iopub.status.busy": "2023-11-06T07:30:26.408177Z",
     "iopub.status.idle": "2023-11-06T07:30:26.417237Z",
     "shell.execute_reply": "2023-11-06T07:30:26.416205Z"
    },
    "papermill": {
     "duration": 0.016007,
     "end_time": "2023-11-06T07:30:26.419465",
     "exception": false,
     "start_time": "2023-11-06T07:30:26.403458",
     "status": "completed"
    },
    "tags": []
   },
   "outputs": [
    {
     "name": "stdout",
     "output_type": "stream",
     "text": [
      "Actual array :  [10 11 12 13 14 15 16 17 18 19 20] \n",
      "Pandas series : \n",
      " 0     10\n",
      "1     11\n",
      "2     12\n",
      "3     13\n",
      "4     14\n",
      "5     15\n",
      "6     16\n",
      "7     17\n",
      "8     18\n",
      "9     19\n",
      "10    20\n",
      "dtype: int64\n"
     ]
    }
   ],
   "source": [
    "# Code by : Chhayan Thanki (216270307017)\n",
    "\n",
    "# Practical(6) - Problem - 1 - To convert a NumPy array to a Pandas series\n",
    "\n",
    "# Importing needed libreries \n",
    "import numpy as numpy # To perform numeric operations\n",
    "import pandas as pandas # To perform pandas series operations\n",
    "\n",
    "print(\"Actual array : \", numpy.arange(10, 21), \"\\nPandas series : \\n\", pandas.Series(numpy.arange(10, 21)))"
   ]
  },
  {
   "cell_type": "code",
   "execution_count": 3,
   "id": "9d1c7b62",
   "metadata": {
    "execution": {
     "iopub.execute_input": "2023-11-06T07:30:26.424753Z",
     "iopub.status.busy": "2023-11-06T07:30:26.424456Z",
     "iopub.status.idle": "2023-11-06T07:30:26.439911Z",
     "shell.execute_reply": "2023-11-06T07:30:26.438738Z"
    },
    "papermill": {
     "duration": 0.020456,
     "end_time": "2023-11-06T07:30:26.441972",
     "exception": false,
     "start_time": "2023-11-06T07:30:26.421516",
     "status": "completed"
    },
    "tags": []
   },
   "outputs": [
    {
     "name": "stdout",
     "output_type": "stream",
     "text": [
      "Data frame : \n",
      "     ML  COA  WJP  MADA\n",
      "0  100   48   78   100\n",
      "1   75   54   58    58\n",
      "2   84   86   82    50\n",
      "3   85   95  100    89\n",
      "4   71   86   66    77\n",
      "5   91   90  100   100\n",
      "\n",
      "1st column to pandas series : \n",
      " 0    100\n",
      "1     75\n",
      "2     84\n",
      "3     85\n",
      "4     71\n",
      "5     91\n",
      "Name: ML, dtype: int64\n"
     ]
    }
   ],
   "source": [
    "# Code by : Chhayan Thanki (216270307017)\n",
    "\n",
    "# Practical(6) - Problem - 2 - To convert the first column of a DataFrame as a Series\n",
    "\n",
    "# Importing needed libreries \n",
    "import pandas as pandas # To perform pandas series operations\n",
    "\n",
    "data = {'ML': [100, 75, 84, 85, 71, 91], \n",
    "                               'COA': [48, 54, 86, 95, 86, 90], \n",
    "                               'WJP': [78, 58, 82, 100, 66, 100], \n",
    "                               'MADA': [100, 58, 50, 89, 77, 100] }\n",
    "\n",
    "print(\"Data frame : \\n\", pandas.DataFrame(data = data)) # Create pandas data frame of given data\n",
    "\n",
    "print(\"\\n1st column to pandas series : \\n\", pandas.DataFrame(data = data).iloc[:,0]) # Convert 1st column of data frame to pandas series"
   ]
  },
  {
   "cell_type": "code",
   "execution_count": 4,
   "id": "aa30ec4a",
   "metadata": {
    "execution": {
     "iopub.execute_input": "2023-11-06T07:30:26.447779Z",
     "iopub.status.busy": "2023-11-06T07:30:26.447414Z",
     "iopub.status.idle": "2023-11-06T07:30:26.454775Z",
     "shell.execute_reply": "2023-11-06T07:30:26.454109Z"
    },
    "papermill": {
     "duration": 0.012736,
     "end_time": "2023-11-06T07:30:26.456909",
     "exception": false,
     "start_time": "2023-11-06T07:30:26.444173",
     "status": "completed"
    },
    "tags": []
   },
   "outputs": [
    {
     "name": "stdout",
     "output_type": "stream",
     "text": [
      "Pandas series : \n",
      " 0     10\n",
      "1     11\n",
      "2     12\n",
      "3     13\n",
      "4     14\n",
      "5     15\n",
      "6     16\n",
      "7     17\n",
      "8     18\n",
      "9     19\n",
      "10    20\n",
      "dtype: int64 \n",
      "\n",
      "Mean :  15.0 \n",
      "Deviation :  3.3166247903554\n"
     ]
    }
   ],
   "source": [
    "# Code by : Chhayan Thanki (216270307017)\n",
    "\n",
    "# Practical(6) - Problem - 3 - To create the mean and standard deviation of the data of a given Series\n",
    "\n",
    "# Importing needed libreries \n",
    "import numpy as numpy # To perform numeric operations\n",
    "import pandas as pandas # To perform pandas series operations\n",
    "\n",
    "print(\"Pandas series : \\n\", pandas.Series(numpy.arange(10, 21)), \"\\n\\nMean : \", pandas.Series(numpy.arange(10, 21)).mean(), \"\\nDeviation : \", pandas.Series(numpy.arange(10, 21)).std())"
   ]
  },
  {
   "cell_type": "code",
   "execution_count": 5,
   "id": "528056b2",
   "metadata": {
    "execution": {
     "iopub.execute_input": "2023-11-06T07:30:26.463097Z",
     "iopub.status.busy": "2023-11-06T07:30:26.462317Z",
     "iopub.status.idle": "2023-11-06T07:30:26.471158Z",
     "shell.execute_reply": "2023-11-06T07:30:26.470067Z"
    },
    "papermill": {
     "duration": 0.013705,
     "end_time": "2023-11-06T07:30:26.472952",
     "exception": false,
     "start_time": "2023-11-06T07:30:26.459247",
     "status": "completed"
    },
    "tags": []
   },
   "outputs": [
    {
     "name": "stdout",
     "output_type": "stream",
     "text": [
      "Sorting in ascending order : \n",
      " 1    16.8000\n",
      "4    18.1002\n",
      "0    19.5000\n",
      "3    20.1240\n",
      "2    22.7800\n",
      "dtype: float64\n",
      "\n",
      "Sorting in descending order : \n",
      " 2    22.7800\n",
      "3    20.1240\n",
      "0    19.5000\n",
      "4    18.1002\n",
      "1    16.8000\n",
      "dtype: float64\n"
     ]
    }
   ],
   "source": [
    "# Code by : Chhayan Thanki (216270307017)\n",
    "\n",
    "# Practical(6) - Problem - 4 - To sort given pandas series\n",
    "\n",
    "# Importing needed libreries \n",
    "import pandas as pandas # To perform pandas series operations\n",
    "\n",
    "print(\"Sorting in ascending order : \\n\", pandas.Series([19.5, 16.8, 22.78, 20.124, 18.1002]).sort_values())\n",
    "print(\"\\nSorting in descending order : \\n\", pandas.Series([19.5, 16.8, 22.78, 20.124, 18.1002]).sort_values(ascending = False))"
   ]
  },
  {
   "cell_type": "code",
   "execution_count": null,
   "id": "dbd5f5de",
   "metadata": {
    "papermill": {
     "duration": 0.001918,
     "end_time": "2023-11-06T07:30:26.477299",
     "exception": false,
     "start_time": "2023-11-06T07:30:26.475381",
     "status": "completed"
    },
    "tags": []
   },
   "outputs": [],
   "source": []
  }
 ],
 "metadata": {
  "kernelspec": {
   "display_name": "Python 3",
   "language": "python",
   "name": "python3"
  },
  "language_info": {
   "codemirror_mode": {
    "name": "ipython",
    "version": 3
   },
   "file_extension": ".py",
   "mimetype": "text/x-python",
   "name": "python",
   "nbconvert_exporter": "python",
   "pygments_lexer": "ipython3",
   "version": "3.10.12"
  },
  "papermill": {
   "default_parameters": {},
   "duration": 3.265183,
   "end_time": "2023-11-06T07:30:26.796148",
   "environment_variables": {},
   "exception": null,
   "input_path": "__notebook__.ipynb",
   "output_path": "__notebook__.ipynb",
   "parameters": {},
   "start_time": "2023-11-06T07:30:23.530965",
   "version": "2.4.0"
  }
 },
 "nbformat": 4,
 "nbformat_minor": 5
}
