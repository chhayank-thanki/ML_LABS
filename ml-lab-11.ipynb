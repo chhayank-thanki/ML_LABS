{
 "cells": [
  {
   "cell_type": "code",
   "execution_count": 1,
   "id": "857508bc",
   "metadata": {
    "_cell_guid": "b1076dfc-b9ad-4769-8c92-a6c4dae69d19",
    "_uuid": "8f2839f25d086af736a60e9eeb907d3b93b6e0e5",
    "execution": {
     "iopub.execute_input": "2023-11-06T07:32:00.152372Z",
     "iopub.status.busy": "2023-11-06T07:32:00.151996Z",
     "iopub.status.idle": "2023-11-06T07:32:00.616276Z",
     "shell.execute_reply": "2023-11-06T07:32:00.615013Z"
    },
    "papermill": {
     "duration": 0.471468,
     "end_time": "2023-11-06T07:32:00.619501",
     "exception": false,
     "start_time": "2023-11-06T07:32:00.148033",
     "status": "completed"
    },
    "tags": []
   },
   "outputs": [
    {
     "name": "stdout",
     "output_type": "stream",
     "text": [
      "\n",
      "Find  all columns which all entries present : \n",
      " PassengerId     True\n",
      "Survived        True\n",
      "Pclass          True\n",
      "Name            True\n",
      "Sex             True\n",
      "Age            False\n",
      "SibSp           True\n",
      "Parch           True\n",
      "Ticket          True\n",
      "Fare            True\n",
      "Cabin          False\n",
      "Embarked       False\n",
      "dtype: bool\n",
      "\n",
      "After dropping missing values..\n",
      " PassengerId    True\n",
      "Survived       True\n",
      "Pclass         True\n",
      "Name           True\n",
      "Sex            True\n",
      "Age            True\n",
      "SibSp          True\n",
      "Parch          True\n",
      "Ticket         True\n",
      "Fare           True\n",
      "Cabin          True\n",
      "Embarked       True\n",
      "dtype: bool\n"
     ]
    }
   ],
   "source": [
    "# Code by : Chhayank Thanki (216270307017)\n",
    "\n",
    "# Problem statment - Write a Pandas program to filter all columns where all entries present, \n",
    "#                    check which rows and columns has a NaN and finally drop rows with any \n",
    "#                    NaNs from the given dataset.\n",
    "\n",
    "# Importing needed libreries \n",
    "import pandas as pandas # To perform pandas dataset operations\n",
    "\n",
    "# Reading Titanic dataset csv file\n",
    "data_set = pandas.read_csv(\"../input/titanic-dataset/Titanic-Dataset.csv\")\n",
    "\n",
    "# Find  all columns which all entries present\n",
    "print(\"\\nFind  all columns which all entries present : \\n\", data_set.notnull().all())\n",
    "\n",
    "# Drop rows with any NaNs or missing values\n",
    "data_set = data_set.dropna()\n",
    "\n",
    "print(\"\\nAfter dropping missing values..\\n\", data_set.notnull().all())"
   ]
  },
  {
   "cell_type": "code",
   "execution_count": null,
   "id": "ba46bdf0",
   "metadata": {
    "papermill": {
     "duration": 0.003726,
     "end_time": "2023-11-06T07:32:00.625558",
     "exception": false,
     "start_time": "2023-11-06T07:32:00.621832",
     "status": "completed"
    },
    "tags": []
   },
   "outputs": [],
   "source": []
  }
 ],
 "metadata": {
  "kernelspec": {
   "display_name": "Python 3",
   "language": "python",
   "name": "python3"
  },
  "language_info": {
   "codemirror_mode": {
    "name": "ipython",
    "version": 3
   },
   "file_extension": ".py",
   "mimetype": "text/x-python",
   "name": "python",
   "nbconvert_exporter": "python",
   "pygments_lexer": "ipython3",
   "version": "3.10.12"
  },
  "papermill": {
   "default_parameters": {},
   "duration": 4.796969,
   "end_time": "2023-11-06T07:32:01.148457",
   "environment_variables": {},
   "exception": null,
   "input_path": "__notebook__.ipynb",
   "output_path": "__notebook__.ipynb",
   "parameters": {},
   "start_time": "2023-11-06T07:31:56.351488",
   "version": "2.4.0"
  }
 },
 "nbformat": 4,
 "nbformat_minor": 5
}
