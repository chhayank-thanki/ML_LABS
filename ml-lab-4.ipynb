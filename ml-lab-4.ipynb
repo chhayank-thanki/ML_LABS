{
 "cells": [
  {
   "cell_type": "code",
   "execution_count": 1,
   "id": "17ddd0bb",
   "metadata": {
    "_cell_guid": "b1076dfc-b9ad-4769-8c92-a6c4dae69d19",
    "_uuid": "8f2839f25d086af736a60e9eeb907d3b93b6e0e5",
    "execution": {
     "iopub.execute_input": "2023-11-06T07:23:39.122779Z",
     "iopub.status.busy": "2023-11-06T07:23:39.122318Z",
     "iopub.status.idle": "2023-11-06T07:23:39.134830Z",
     "shell.execute_reply": "2023-11-06T07:23:39.133579Z"
    },
    "papermill": {
     "duration": 0.020484,
     "end_time": "2023-11-06T07:23:39.137308",
     "exception": false,
     "start_time": "2023-11-06T07:23:39.116824",
     "status": "completed"
    },
    "tags": []
   },
   "outputs": [],
   "source": [
    "# Machine learning Lab - 4 (Practical - 4)\n",
    "\n",
    "# Importing needed libreries \n",
    "import numpy as numpy # To perform numeric operations\n"
   ]
  },
  {
   "cell_type": "code",
   "execution_count": 2,
   "id": "fd01efa0",
   "metadata": {
    "execution": {
     "iopub.execute_input": "2023-11-06T07:23:39.148031Z",
     "iopub.status.busy": "2023-11-06T07:23:39.147326Z",
     "iopub.status.idle": "2023-11-06T07:23:39.157106Z",
     "shell.execute_reply": "2023-11-06T07:23:39.155969Z"
    },
    "papermill": {
     "duration": 0.019459,
     "end_time": "2023-11-06T07:23:39.160022",
     "exception": false,
     "start_time": "2023-11-06T07:23:39.140563",
     "status": "completed"
    },
    "tags": []
   },
   "outputs": [
    {
     "name": "stdout",
     "output_type": "stream",
     "text": [
      "Element wise Addition :  100\n",
      "Element wise Subtraction :  0\n",
      "Element wise Multiplication :  2500\n",
      "Element wise Division :  1.0\n"
     ]
    }
   ],
   "source": [
    "# Code by : chhyank Thanki (216270307017)\n",
    "\n",
    "# Practical(4) - Problem - 1 - To add, subtract, multiply, divide arguments element wise\n",
    "\n",
    "# Importing needed libreries \n",
    "import numpy as numpy # To perform numeric operations\n",
    "\n",
    "print(\"Element wise Addition : \" , numpy.add(50, 50)) # Addition \n",
    "print(\"Element wise Subtraction : \" , numpy.subtract(50, 50)) # Subtraction \n",
    "print(\"Element wise Multiplication : \" , numpy.multiply(50, 50)) # Multiplication \n",
    "print(\"Element wise Division : \" , numpy.divide(50, 50)) # Division "
   ]
  },
  {
   "cell_type": "code",
   "execution_count": 3,
   "id": "4a91d9de",
   "metadata": {
    "execution": {
     "iopub.execute_input": "2023-11-06T07:23:39.168259Z",
     "iopub.status.busy": "2023-11-06T07:23:39.167788Z",
     "iopub.status.idle": "2023-11-06T07:23:39.177064Z",
     "shell.execute_reply": "2023-11-06T07:23:39.175555Z"
    },
    "papermill": {
     "duration": 0.016421,
     "end_time": "2023-11-06T07:23:39.179662",
     "exception": false,
     "start_time": "2023-11-06T07:23:39.163241",
     "status": "completed"
    },
    "tags": []
   },
   "outputs": [
    {
     "name": "stdout",
     "output_type": "stream",
     "text": [
      "Actucal elements :  [10.5 11.5 12.5 13.5 14.5] \n",
      "Rounded elements :  [10. 12. 12. 14. 14.]\n"
     ]
    }
   ],
   "source": [
    "# Code by : chhyank Thanki (216270307017)\n",
    "\n",
    "# Practical(4) - Problem - 2 - To round elements of the array to the nearest integer\n",
    "\n",
    "# Importing needed libreries \n",
    "import numpy as numpy # To perform numeric operations\n",
    "\n",
    "# Round array elemets\n",
    "print(\"Actucal elements : \", numpy.arange(10.5, 15.5), \"\\nRounded elements : \", numpy.rint(numpy.arange(10.5, 15.5)))"
   ]
  },
  {
   "cell_type": "code",
   "execution_count": 4,
   "id": "8fafbb46",
   "metadata": {
    "execution": {
     "iopub.execute_input": "2023-11-06T07:23:39.188779Z",
     "iopub.status.busy": "2023-11-06T07:23:39.187532Z",
     "iopub.status.idle": "2023-11-06T07:23:39.196786Z",
     "shell.execute_reply": "2023-11-06T07:23:39.195353Z"
    },
    "papermill": {
     "duration": 0.0161,
     "end_time": "2023-11-06T07:23:39.199104",
     "exception": false,
     "start_time": "2023-11-06T07:23:39.183004",
     "status": "completed"
    },
    "tags": []
   },
   "outputs": [
    {
     "name": "stdout",
     "output_type": "stream",
     "text": [
      "Row mean :  [2. 5. 8.]\n",
      "Column mean :  [4. 5. 6.]\n"
     ]
    }
   ],
   "source": [
    "# Code by : chhyank Thanki (216270307017)\n",
    "\n",
    "# Practical(4) - Problem - 3 - To calculate mean across dimension, in a 2D array\n",
    "\n",
    "# Importing needed libreries \n",
    "import numpy as numpy # To perform numeric operations\n",
    "\n",
    "print(\"Row mean : \", numpy.mean(numpy.arange(1, 10).reshape(3, 3), axis = 1))\n",
    "print(\"Column mean : \", numpy.mean(numpy.arange(1, 10).reshape(3, 3), axis = 0))"
   ]
  },
  {
   "cell_type": "code",
   "execution_count": 5,
   "id": "2c2d9df2",
   "metadata": {
    "execution": {
     "iopub.execute_input": "2023-11-06T07:23:39.207734Z",
     "iopub.status.busy": "2023-11-06T07:23:39.207267Z",
     "iopub.status.idle": "2023-11-06T07:23:39.214189Z",
     "shell.execute_reply": "2023-11-06T07:23:39.213047Z"
    },
    "papermill": {
     "duration": 0.014213,
     "end_time": "2023-11-06T07:23:39.216755",
     "exception": false,
     "start_time": "2023-11-06T07:23:39.202542",
     "status": "completed"
    },
    "tags": []
   },
   "outputs": [
    {
     "name": "stdout",
     "output_type": "stream",
     "text": [
      "[10  5  5  4 16]\n"
     ]
    }
   ],
   "source": [
    "# Code by : chhyank Thanki (216270307017)\n",
    "\n",
    "# Practical(4) - Problem - 4 - To calculate the difference between neighboring elements, element wise of a given array\n",
    "\n",
    "# Importing needed libreries \n",
    "import numpy as numpy # To perform numeric operations\n",
    "\n",
    "print(numpy.diff(numpy.array([10, 20, 25, 30, 34, 50])))"
   ]
  }
 ],
 "metadata": {
  "kernelspec": {
   "display_name": "Python 3",
   "language": "python",
   "name": "python3"
  },
  "language_info": {
   "codemirror_mode": {
    "name": "ipython",
    "version": 3
   },
   "file_extension": ".py",
   "mimetype": "text/x-python",
   "name": "python",
   "nbconvert_exporter": "python",
   "pygments_lexer": "ipython3",
   "version": "3.10.12"
  },
  "papermill": {
   "default_parameters": {},
   "duration": 4.457851,
   "end_time": "2023-11-06T07:23:39.640956",
   "environment_variables": {},
   "exception": null,
   "input_path": "__notebook__.ipynb",
   "output_path": "__notebook__.ipynb",
   "parameters": {},
   "start_time": "2023-11-06T07:23:35.183105",
   "version": "2.4.0"
  }
 },
 "nbformat": 4,
 "nbformat_minor": 5
}
