{
 "cells": [
  {
   "cell_type": "code",
   "execution_count": 1,
   "id": "f8f6e39f",
   "metadata": {
    "_cell_guid": "b1076dfc-b9ad-4769-8c92-a6c4dae69d19",
    "_uuid": "8f2839f25d086af736a60e9eeb907d3b93b6e0e5",
    "execution": {
     "iopub.execute_input": "2023-11-06T07:31:27.628425Z",
     "iopub.status.busy": "2023-11-06T07:31:27.627646Z",
     "iopub.status.idle": "2023-11-06T07:31:28.138049Z",
     "shell.execute_reply": "2023-11-06T07:31:28.136915Z"
    },
    "papermill": {
     "duration": 0.517804,
     "end_time": "2023-11-06T07:31:28.141167",
     "exception": false,
     "start_time": "2023-11-06T07:31:27.623363",
     "status": "completed"
    },
    "tags": []
   },
   "outputs": [
    {
     "name": "stdout",
     "output_type": "stream",
     "text": [
      "Total missing values in column 'Age' :  177\n",
      "After dropping missing values..\n",
      "Total missing values in column 'Age' :  0\n"
     ]
    }
   ],
   "source": [
    "# Code by : Chhayank Thanki (216270307017)\n",
    "\n",
    "# Problem - 1 - To find and drop the missing values from the given dataset\n",
    "\n",
    "# Importing needed libreries \n",
    "import pandas as pandas # To perform pandas dataset operations\n",
    "\n",
    "# Reading Titanic dataset csv file\n",
    "data_set = pandas.read_csv(\"../input/titanic-dataset/Titanic-Dataset.csv\")\n",
    "\n",
    "# Get the count of total missing values\n",
    "print(\"Total missing values in column 'Age' : \", data_set[\"Age\"].isna().sum())\n",
    "\n",
    "# Drop rows having missing values in column 'Age'\n",
    "data_set.dropna(subset=['Age'], inplace=True)\n",
    "\n",
    "print(\"After dropping missing values..\\nTotal missing values in column 'Age' : \", data_set[\"Age\"].isna().sum())"
   ]
  },
  {
   "cell_type": "code",
   "execution_count": 2,
   "id": "4f2baa69",
   "metadata": {
    "execution": {
     "iopub.execute_input": "2023-11-06T07:31:28.152145Z",
     "iopub.status.busy": "2023-11-06T07:31:28.151201Z",
     "iopub.status.idle": "2023-11-06T07:31:28.183470Z",
     "shell.execute_reply": "2023-11-06T07:31:28.180783Z"
    },
    "papermill": {
     "duration": 0.041849,
     "end_time": "2023-11-06T07:31:28.186306",
     "exception": false,
     "start_time": "2023-11-06T07:31:28.144457",
     "status": "completed"
    },
    "tags": []
   },
   "outputs": [
    {
     "name": "stdout",
     "output_type": "stream",
     "text": [
      "Ticket\n",
      "110152         3\n",
      "110413         3\n",
      "110465         2\n",
      "110564         1\n",
      "110813         1\n",
      "              ..\n",
      "W./C. 6608     4\n",
      "W./C. 6609     1\n",
      "W.E.P. 5734    1\n",
      "W/C 14208      1\n",
      "WE/P 5735      2\n",
      "Length: 681, dtype: int64\n",
      "\n",
      "After dropping duplicates..\n",
      " Ticket\n",
      "110152         1\n",
      "110413         1\n",
      "110465         1\n",
      "110564         1\n",
      "110813         1\n",
      "              ..\n",
      "W./C. 6608     1\n",
      "W./C. 6609     1\n",
      "W.E.P. 5734    1\n",
      "W/C 14208      1\n",
      "WE/P 5735      1\n",
      "Length: 681, dtype: int64\n"
     ]
    }
   ],
   "source": [
    "# Code by : Chhayank Thanki (216270307017)\n",
    "\n",
    "# Problem - 2 - To remove the duplicates from the given dataset\n",
    "\n",
    "# Importing needed libreries \n",
    "import pandas as pandas # To perform pandas series operations\n",
    "\n",
    "# Reading Titanic dataset csv file\n",
    "data_set = pandas.read_csv(\"../input/titanic-dataset/Titanic-Dataset.csv\")\n",
    "\n",
    "# Get the total of duplicate values in column 'Ticket'\n",
    "print(data_set.pivot_table(index = ['Ticket'], aggfunc ='size'))\n",
    "\n",
    "# Dropping the duplicate values\n",
    "data_set.drop_duplicates(subset=['Ticket'], inplace=True)\n",
    "\n",
    "print(\"\\nAfter dropping duplicates..\\n\", data_set.pivot_table(index = ['Ticket'], aggfunc ='size'))"
   ]
  }
 ],
 "metadata": {
  "kernelspec": {
   "display_name": "Python 3",
   "language": "python",
   "name": "python3"
  },
  "language_info": {
   "codemirror_mode": {
    "name": "ipython",
    "version": 3
   },
   "file_extension": ".py",
   "mimetype": "text/x-python",
   "name": "python",
   "nbconvert_exporter": "python",
   "pygments_lexer": "ipython3",
   "version": "3.10.12"
  },
  "papermill": {
   "default_parameters": {},
   "duration": 5.036416,
   "end_time": "2023-11-06T07:31:28.713899",
   "environment_variables": {},
   "exception": null,
   "input_path": "__notebook__.ipynb",
   "output_path": "__notebook__.ipynb",
   "parameters": {},
   "start_time": "2023-11-06T07:31:23.677483",
   "version": "2.4.0"
  }
 },
 "nbformat": 4,
 "nbformat_minor": 5
}
