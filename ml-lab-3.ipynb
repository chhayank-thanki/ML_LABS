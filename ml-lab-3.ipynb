{
 "cells": [
  {
   "cell_type": "code",
   "execution_count": 1,
   "id": "3731325a",
   "metadata": {
    "_cell_guid": "b1076dfc-b9ad-4769-8c92-a6c4dae69d19",
    "_uuid": "8f2839f25d086af736a60e9eeb907d3b93b6e0e5",
    "execution": {
     "iopub.execute_input": "2023-11-06T07:22:50.735903Z",
     "iopub.status.busy": "2023-11-06T07:22:50.735452Z",
     "iopub.status.idle": "2023-11-06T07:22:50.747197Z",
     "shell.execute_reply": "2023-11-06T07:22:50.746028Z"
    },
    "papermill": {
     "duration": 0.019295,
     "end_time": "2023-11-06T07:22:50.749721",
     "exception": false,
     "start_time": "2023-11-06T07:22:50.730426",
     "status": "completed"
    },
    "tags": []
   },
   "outputs": [],
   "source": [
    "# Machine learning Lab - 3 (Practical - 3)\n",
    "\n",
    "# Importing needed libreries \n",
    "import numpy as numpy # To perform numeric operations"
   ]
  },
  {
   "cell_type": "code",
   "execution_count": 2,
   "id": "527846b6",
   "metadata": {
    "execution": {
     "iopub.execute_input": "2023-11-06T07:22:50.756496Z",
     "iopub.status.busy": "2023-11-06T07:22:50.756130Z",
     "iopub.status.idle": "2023-11-06T07:22:50.763233Z",
     "shell.execute_reply": "2023-11-06T07:22:50.762442Z"
    },
    "papermill": {
     "duration": 0.013716,
     "end_time": "2023-11-06T07:22:50.766134",
     "exception": false,
     "start_time": "2023-11-06T07:22:50.752418",
     "status": "completed"
    },
    "tags": []
   },
   "outputs": [
    {
     "name": "stdout",
     "output_type": "stream",
     "text": [
      "[array([1, 2]), array([3, 4, 5, 6]), array([ 7,  8,  9, 10, 11, 12, 13, 14])]\n"
     ]
    }
   ],
   "source": [
    "# Code by : Chhayank Thanki (216270307017)\n",
    "\n",
    "# Practical(3) - Problem - 1 - To split an array of 14 elements into 3 arrays, each with 2, 4 and 8 elements in the origioal order\n",
    "\n",
    "# Importing needed libreries \n",
    "import numpy as numpy # To perform numeric operations\n",
    "\n",
    "# Split array into 3 arrays\n",
    "print(numpy.array_split(numpy.arange(1, 15), [2, 6]))"
   ]
  },
  {
   "cell_type": "code",
   "execution_count": 3,
   "id": "60f6f00b",
   "metadata": {
    "execution": {
     "iopub.execute_input": "2023-11-06T07:22:50.774154Z",
     "iopub.status.busy": "2023-11-06T07:22:50.773119Z",
     "iopub.status.idle": "2023-11-06T07:22:50.781251Z",
     "shell.execute_reply": "2023-11-06T07:22:50.780003Z"
    },
    "papermill": {
     "duration": 0.014221,
     "end_time": "2023-11-06T07:22:50.783523",
     "exception": false,
     "start_time": "2023-11-06T07:22:50.769302",
     "status": "completed"
    },
    "tags": []
   },
   "outputs": [
    {
     "name": "stdout",
     "output_type": "stream",
     "text": [
      "hstack() :  [1 2 3 4 5 6]\n",
      "append() :  [1 2 3 4 5 6]\n"
     ]
    }
   ],
   "source": [
    "# Code by : Chhayank Thanki (216270307017)\n",
    "\n",
    "# Practical(3) - Problem - 2 - To stack arrays hozirontally (column wise)\n",
    "# There are two method to horizontally stack arrays \n",
    "# 1. Using Append() and 2. Using hstack()\n",
    "\n",
    "# Using hstack()\n",
    "print(\"hstack() : \", numpy.hstack((numpy.arange(1, 4), numpy.arange(4, 7))))\n",
    "\n",
    "# Using Append()\n",
    "print(\"append() : \", numpy.append(numpy.arange(1, 4), numpy.arange(4, 7)))"
   ]
  },
  {
   "cell_type": "code",
   "execution_count": null,
   "id": "220dff24",
   "metadata": {
    "papermill": {
     "duration": 0.002445,
     "end_time": "2023-11-06T07:22:50.788676",
     "exception": false,
     "start_time": "2023-11-06T07:22:50.786231",
     "status": "completed"
    },
    "tags": []
   },
   "outputs": [],
   "source": []
  }
 ],
 "metadata": {
  "kernelspec": {
   "display_name": "Python 3",
   "language": "python",
   "name": "python3"
  },
  "language_info": {
   "codemirror_mode": {
    "name": "ipython",
    "version": 3
   },
   "file_extension": ".py",
   "mimetype": "text/x-python",
   "name": "python",
   "nbconvert_exporter": "python",
   "pygments_lexer": "ipython3",
   "version": "3.10.12"
  },
  "papermill": {
   "default_parameters": {},
   "duration": 4.259329,
   "end_time": "2023-11-06T07:22:51.210977",
   "environment_variables": {},
   "exception": null,
   "input_path": "__notebook__.ipynb",
   "output_path": "__notebook__.ipynb",
   "parameters": {},
   "start_time": "2023-11-06T07:22:46.951648",
   "version": "2.4.0"
  }
 },
 "nbformat": 4,
 "nbformat_minor": 5
}
