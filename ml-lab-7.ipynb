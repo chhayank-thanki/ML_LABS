{
 "cells": [
  {
   "cell_type": "code",
   "execution_count": 1,
   "id": "1747cecc",
   "metadata": {
    "execution": {
     "iopub.execute_input": "2023-11-06T07:25:27.786707Z",
     "iopub.status.busy": "2023-11-06T07:25:27.786288Z",
     "iopub.status.idle": "2023-11-06T07:25:28.213009Z",
     "shell.execute_reply": "2023-11-06T07:25:28.211629Z"
    },
    "papermill": {
     "duration": 0.434601,
     "end_time": "2023-11-06T07:25:28.215583",
     "exception": false,
     "start_time": "2023-11-06T07:25:27.780982",
     "status": "completed"
    },
    "tags": []
   },
   "outputs": [
    {
     "name": "stdout",
     "output_type": "stream",
     "text": [
      "       Name  Age    Enrollment\n",
      "0  Chhayank   18  216270307017\n",
      "1   Bhargav   18  216270307013\n",
      "2    Aditya   18  216270307032\n"
     ]
    }
   ],
   "source": [
    "# Code by : Chhayan Thanki (216270307017)\n",
    "\n",
    "# Practical(7) - Problem - 1 - To create a dataframe from a dictionary and display it\n",
    "\n",
    "# Importing needed libreries \n",
    "import numpy as numpy # To perform numeric operations\n",
    "import pandas as pandas # To perform pandas dataset operations\n",
    "\n",
    "details = {\n",
    "    'Name' : ['Chhayank', 'Bhargav', 'Aditya'],\n",
    "    'Age' : [18, 18, 18],\n",
    "    'Enrollment' : [216270307017, 216270307013, 216270307032]\n",
    "}\n",
    "\n",
    "print(pandas.DataFrame(details, columns = ['Name', 'Age', 'Enrollment']))"
   ]
  },
  {
   "cell_type": "code",
   "execution_count": 2,
   "id": "dc5cb0dd",
   "metadata": {
    "execution": {
     "iopub.execute_input": "2023-11-06T07:25:28.225285Z",
     "iopub.status.busy": "2023-11-06T07:25:28.224609Z",
     "iopub.status.idle": "2023-11-06T07:25:28.241156Z",
     "shell.execute_reply": "2023-11-06T07:25:28.239893Z"
    },
    "papermill": {
     "duration": 0.023429,
     "end_time": "2023-11-06T07:25:28.243823",
     "exception": false,
     "start_time": "2023-11-06T07:25:28.220394",
     "status": "completed"
    },
    "tags": []
   },
   "outputs": [
    {
     "name": "stdout",
     "output_type": "stream",
     "text": [
      "       Name  Age    Enrollment\n",
      "2    Aditya   18  216270307032\n",
      "1   Bhargav   18  216270307013\n",
      "0  Chhayank   18  216270307017\n"
     ]
    }
   ],
   "source": [
    "# Code by : Chhayan Thanki (216270307017)\n",
    "\n",
    "# Practical(7) - Problem - 2 - To sort the DataFrame first by 'name' in ascending order\n",
    "\n",
    "# Importing needed libreries \n",
    "import numpy as numpy # To perform numeric operations\n",
    "import pandas as pandas # To perform pandas series operations\n",
    "\n",
    "details = {\n",
    "    'Name' : ['Chhayank', 'Bhargav', 'Aditya'],\n",
    "    'Age' : [18, 18, 18],\n",
    "    'Enrollment' : [216270307017, 216270307013, 216270307032]\n",
    "}\n",
    "\n",
    "print(pandas.DataFrame(details, columns = ['Name', 'Age', 'Enrollment']).sort_values(by = ['Name']))"
   ]
  },
  {
   "cell_type": "code",
   "execution_count": 3,
   "id": "e53395c0",
   "metadata": {
    "execution": {
     "iopub.execute_input": "2023-11-06T07:25:28.250731Z",
     "iopub.status.busy": "2023-11-06T07:25:28.250385Z",
     "iopub.status.idle": "2023-11-06T07:25:28.265661Z",
     "shell.execute_reply": "2023-11-06T07:25:28.264603Z"
    },
    "papermill": {
     "duration": 0.021839,
     "end_time": "2023-11-06T07:25:28.268381",
     "exception": false,
     "start_time": "2023-11-06T07:25:28.246542",
     "status": "completed"
    },
    "tags": []
   },
   "outputs": [
    {
     "name": "stdout",
     "output_type": "stream",
     "text": [
      "       Name    Enrollment\n",
      "0  Chhayank  216270307017\n",
      "1   Bhargav  216270307013\n",
      "2    Aditya  216270307032\n"
     ]
    }
   ],
   "source": [
    "# Code by : Chhayan Thanki (216270307017)\n",
    "\n",
    "# Practical(7) - Problem - 3 - To delete the one specific column from the DataFrame\n",
    "\n",
    "# Importing needed libreries \n",
    "import numpy as numpy # To perform numeric operations\n",
    "import pandas as pandas # To perform pandas series operations\n",
    "\n",
    "details = {\n",
    "    'Name' : ['Chhayank', 'Bhargav', 'Aditya'],\n",
    "    'Age' : [18, 18, 18],\n",
    "    'Enrollment' : [216270307017, 216270307013, 216270307032]\n",
    "}\n",
    "\n",
    "print(pandas.DataFrame(details, columns = ['Name', 'Age', 'Enrollment']).drop(['Age'], axis = 1))"
   ]
  },
  {
   "cell_type": "code",
   "execution_count": 4,
   "id": "7685e04b",
   "metadata": {
    "execution": {
     "iopub.execute_input": "2023-11-06T07:25:28.275819Z",
     "iopub.status.busy": "2023-11-06T07:25:28.275481Z",
     "iopub.status.idle": "2023-11-06T07:25:28.291264Z",
     "shell.execute_reply": "2023-11-06T07:25:28.290122Z"
    },
    "papermill": {
     "duration": 0.022488,
     "end_time": "2023-11-06T07:25:28.293810",
     "exception": false,
     "start_time": "2023-11-06T07:25:28.271322",
     "status": "completed"
    },
    "tags": []
   },
   "outputs": [],
   "source": [
    "# Code by : Chhayan Thanki (216270307017)\n",
    "\n",
    "# Practical(7) - Problem - 4 - To write a DataFrame to CSV file using tab separator\n",
    "\n",
    "# Importing needed libreries \n",
    "import numpy as numpy # To perform numeric operations\n",
    "import pandas as pandas # To perform pandas series operations\n",
    "\n",
    "details = {\n",
    "    'Name' : ['Chhayank', 'Bhargav', 'Aditya'],\n",
    "    'Age' : [18, 18, 18],\n",
    "    'Enrollment' : [216270307017, 216270307013, 216270307032]\n",
    "}\n",
    "\n",
    "data_frame = pandas.DataFrame(details, columns = ['Name', 'Age', 'Enrollment'])\n",
    "\n",
    "data_frame.to_csv('Details.csv', sep = '\\t') # Saving as a CSV file\n",
    " \n",
    "new_data_frame = pandas.read_csv('Details.csv') # loading the CSV file"
   ]
  }
 ],
 "metadata": {
  "kernelspec": {
   "display_name": "Python 3",
   "language": "python",
   "name": "python3"
  },
  "language_info": {
   "codemirror_mode": {
    "name": "ipython",
    "version": 3
   },
   "file_extension": ".py",
   "mimetype": "text/x-python",
   "name": "python",
   "nbconvert_exporter": "python",
   "pygments_lexer": "ipython3",
   "version": "3.10.12"
  },
  "papermill": {
   "default_parameters": {},
   "duration": 4.488198,
   "end_time": "2023-11-06T07:25:28.716673",
   "environment_variables": {},
   "exception": null,
   "input_path": "__notebook__.ipynb",
   "output_path": "__notebook__.ipynb",
   "parameters": {},
   "start_time": "2023-11-06T07:25:24.228475",
   "version": "2.4.0"
  }
 },
 "nbformat": 4,
 "nbformat_minor": 5
}
