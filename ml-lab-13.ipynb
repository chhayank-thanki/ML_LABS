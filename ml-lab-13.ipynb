{
 "cells": [
  {
   "cell_type": "code",
   "execution_count": 1,
   "id": "e12baa91",
   "metadata": {
    "_cell_guid": "b1076dfc-b9ad-4769-8c92-a6c4dae69d19",
    "_uuid": "8f2839f25d086af736a60e9eeb907d3b93b6e0e5",
    "execution": {
     "iopub.execute_input": "2023-11-06T07:33:50.888775Z",
     "iopub.status.busy": "2023-11-06T07:33:50.888494Z",
     "iopub.status.idle": "2023-11-06T07:33:50.891946Z",
     "shell.execute_reply": "2023-11-06T07:33:50.891405Z"
    },
    "papermill": {
     "duration": 0.00882,
     "end_time": "2023-11-06T07:33:50.893595",
     "exception": false,
     "start_time": "2023-11-06T07:33:50.884775",
     "status": "completed"
    },
    "tags": []
   },
   "outputs": [],
   "source": [
    "# Code by : Chhayank Thanki (216270307017)\n",
    "\n",
    "# Problem statment - Write a Python program to implement K-Nearest Neighbour supervised\n",
    "#                    machine learning algorithm for given dataset. "
   ]
  },
  {
   "cell_type": "code",
   "execution_count": 2,
   "id": "38a2f821",
   "metadata": {
    "execution": {
     "iopub.execute_input": "2023-11-06T07:33:50.899841Z",
     "iopub.status.busy": "2023-11-06T07:33:50.899446Z",
     "iopub.status.idle": "2023-11-06T07:33:51.908034Z",
     "shell.execute_reply": "2023-11-06T07:33:51.907292Z"
    },
    "papermill": {
     "duration": 1.014441,
     "end_time": "2023-11-06T07:33:51.909948",
     "exception": false,
     "start_time": "2023-11-06T07:33:50.895507",
     "status": "completed"
    },
    "tags": []
   },
   "outputs": [],
   "source": [
    "# Importing needed libreries \n",
    "import numpy as np # To perform mathematical equations\n",
    "from collections import Counter # To count the occurrences of elements in a collection\n",
    "from sklearn.datasets import load_iris # Load the Iris dataset\n",
    "from sklearn.model_selection import train_test_split # To split data into train and test data\n",
    "from sklearn.metrics import accuracy_score # To calculate accuracy"
   ]
  },
  {
   "cell_type": "code",
   "execution_count": 3,
   "id": "8ffb1b79",
   "metadata": {
    "execution": {
     "iopub.execute_input": "2023-11-06T07:33:51.915214Z",
     "iopub.status.busy": "2023-11-06T07:33:51.914875Z",
     "iopub.status.idle": "2023-11-06T07:33:51.921875Z",
     "shell.execute_reply": "2023-11-06T07:33:51.921106Z"
    },
    "papermill": {
     "duration": 0.011378,
     "end_time": "2023-11-06T07:33:51.923584",
     "exception": false,
     "start_time": "2023-11-06T07:33:51.912206",
     "status": "completed"
    },
    "tags": []
   },
   "outputs": [],
   "source": [
    "# Define the Euclidean distance function\n",
    "def euclidean_distance(x1, x2):\n",
    "    return np.sqrt(np.sum((x1 - x2) ** 2))\n",
    "\n",
    "# Define the k-NN model\n",
    "class KNN:\n",
    "    def __init__(self, k = 5):\n",
    "        self.k = k\n",
    "\n",
    "    def fit(self, X, y):\n",
    "        self.X_train = X\n",
    "        self.y_train = y\n",
    "\n",
    "    def predict(self, X):\n",
    "        predictions = [self._predict(x) for x in X]\n",
    "        return np.array(predictions)\n",
    "\n",
    "    def _predict(self, x):\n",
    "        # Calculate distances between x and all examples in the training set\n",
    "        distances = [euclidean_distance(x, x_train) for x_train in self.X_train]\n",
    "        \n",
    "        # Sort by distance and return indices of the first k neighbors\n",
    "        k_indices = np.argsort(distances)[:self.k]\n",
    "        \n",
    "        # Extract the labels of the k nearest neighbor training samples\n",
    "        k_nearest_labels = [self.y_train[i] for i in k_indices]\n",
    "        \n",
    "        # Return the most common class label among the k nearest neighbors\n",
    "        most_common = Counter(k_nearest_labels).most_common(1)\n",
    "        return most_common[0][0]"
   ]
  },
  {
   "cell_type": "code",
   "execution_count": 4,
   "id": "e3c01929",
   "metadata": {
    "execution": {
     "iopub.execute_input": "2023-11-06T07:33:51.928185Z",
     "iopub.status.busy": "2023-11-06T07:33:51.927936Z",
     "iopub.status.idle": "2023-11-06T07:33:51.936786Z",
     "shell.execute_reply": "2023-11-06T07:33:51.936155Z"
    },
    "papermill": {
     "duration": 0.01292,
     "end_time": "2023-11-06T07:33:51.938329",
     "exception": false,
     "start_time": "2023-11-06T07:33:51.925409",
     "status": "completed"
    },
    "tags": []
   },
   "outputs": [],
   "source": [
    "# Define features and target value and split data into train and test data\n",
    "iris = load_iris()\n",
    "X = iris.data  # Features\n",
    "y = iris.target  # Target variable (species)\n",
    "\n",
    "# Split the dataset into training and testing sets\n",
    "X_train, X_test, y_train, y_test = train_test_split(X, y, test_size=0.2, random_state=42)"
   ]
  },
  {
   "cell_type": "code",
   "execution_count": 5,
   "id": "4d7c0cdc",
   "metadata": {
    "execution": {
     "iopub.execute_input": "2023-11-06T07:33:51.942910Z",
     "iopub.status.busy": "2023-11-06T07:33:51.942441Z",
     "iopub.status.idle": "2023-11-06T07:33:51.971760Z",
     "shell.execute_reply": "2023-11-06T07:33:51.971206Z"
    },
    "papermill": {
     "duration": 0.033185,
     "end_time": "2023-11-06T07:33:51.973319",
     "exception": false,
     "start_time": "2023-11-06T07:33:51.940134",
     "status": "completed"
    },
    "tags": []
   },
   "outputs": [],
   "source": [
    "# Create and fit the k-NN classifier\n",
    "k = 5\n",
    "clf = KNN(k=k)\n",
    "clf.fit(X_train, y_train)\n",
    "\n",
    "# Predict the labels for the test set\n",
    "predictions = clf.predict(X_test)"
   ]
  },
  {
   "cell_type": "code",
   "execution_count": 6,
   "id": "e7a5b2c9",
   "metadata": {
    "execution": {
     "iopub.execute_input": "2023-11-06T07:33:51.978049Z",
     "iopub.status.busy": "2023-11-06T07:33:51.977646Z",
     "iopub.status.idle": "2023-11-06T07:33:51.982624Z",
     "shell.execute_reply": "2023-11-06T07:33:51.981858Z"
    },
    "papermill": {
     "duration": 0.009323,
     "end_time": "2023-11-06T07:33:51.984423",
     "exception": false,
     "start_time": "2023-11-06T07:33:51.975100",
     "status": "completed"
    },
    "tags": []
   },
   "outputs": [
    {
     "name": "stdout",
     "output_type": "stream",
     "text": [
      "Accuracy of the k-NN model with k = 5 : 100.00 %\n"
     ]
    }
   ],
   "source": [
    "accuracy = accuracy_score(y_test, predictions)\n",
    "accuracy_percentage = accuracy * 100\n",
    "print(f\"Accuracy of the k-NN model with k = {k} : {accuracy_percentage:.2f} %\")"
   ]
  }
 ],
 "metadata": {
  "kernelspec": {
   "display_name": "Python 3",
   "language": "python",
   "name": "python3"
  },
  "language_info": {
   "codemirror_mode": {
    "name": "ipython",
    "version": 3
   },
   "file_extension": ".py",
   "mimetype": "text/x-python",
   "name": "python",
   "nbconvert_exporter": "python",
   "pygments_lexer": "ipython3",
   "version": "3.10.12"
  },
  "papermill": {
   "default_parameters": {},
   "duration": 3.811608,
   "end_time": "2023-11-06T07:33:52.303185",
   "environment_variables": {},
   "exception": null,
   "input_path": "__notebook__.ipynb",
   "output_path": "__notebook__.ipynb",
   "parameters": {},
   "start_time": "2023-11-06T07:33:48.491577",
   "version": "2.4.0"
  }
 },
 "nbformat": 4,
 "nbformat_minor": 5
}
