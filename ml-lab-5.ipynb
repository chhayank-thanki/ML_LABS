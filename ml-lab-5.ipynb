{
 "cells": [
  {
   "cell_type": "code",
   "execution_count": 1,
   "id": "cfab3653",
   "metadata": {
    "_cell_guid": "b1076dfc-b9ad-4769-8c92-a6c4dae69d19",
    "_uuid": "8f2839f25d086af736a60e9eeb907d3b93b6e0e5",
    "execution": {
     "iopub.execute_input": "2023-11-06T07:24:20.346714Z",
     "iopub.status.busy": "2023-11-06T07:24:20.346319Z",
     "iopub.status.idle": "2023-11-06T07:24:20.358363Z",
     "shell.execute_reply": "2023-11-06T07:24:20.357328Z"
    },
    "papermill": {
     "duration": 0.018825,
     "end_time": "2023-11-06T07:24:20.361060",
     "exception": false,
     "start_time": "2023-11-06T07:24:20.342235",
     "status": "completed"
    },
    "tags": []
   },
   "outputs": [],
   "source": [
    "# Machine learning Lab - 5 (Practical - 5)\n",
    "\n",
    "# Importing needed libreries \n",
    "import numpy as numpy # To perform numeric operations"
   ]
  },
  {
   "cell_type": "code",
   "execution_count": 2,
   "id": "ba4e54c6",
   "metadata": {
    "execution": {
     "iopub.execute_input": "2023-11-06T07:24:20.367160Z",
     "iopub.status.busy": "2023-11-06T07:24:20.366791Z",
     "iopub.status.idle": "2023-11-06T07:24:20.375870Z",
     "shell.execute_reply": "2023-11-06T07:24:20.374675Z"
    },
    "papermill": {
     "duration": 0.016265,
     "end_time": "2023-11-06T07:24:20.379771",
     "exception": false,
     "start_time": "2023-11-06T07:24:20.363506",
     "status": "completed"
    },
    "tags": []
   },
   "outputs": [
    {
     "name": "stdout",
     "output_type": "stream",
     "text": [
      "Actual array : \n",
      " [[1 2]\n",
      " [3 4]] \n",
      "Maximum :  4 \n",
      "Minimum :  1\n"
     ]
    }
   ],
   "source": [
    "# Code by : Chhayank Thanki (216270307017)\n",
    "\n",
    "# Practical(5) - Problem - 1 - To find the maximum and minimum value of a given flattened array\n",
    "\n",
    "# Importing needed libreries \n",
    "import numpy as numpy # To perform numeric operations\n",
    "\n",
    "print(\"Actual array : \\n\", numpy.arange(1, 5).reshape(2, 2), \"\\nMaximum : \", numpy.amax(numpy.arange(1, 5).reshape(2, 2)), \"\\nMinimum : \", numpy.amin(numpy.arange(1, 5).reshape(2, 2)))"
   ]
  },
  {
   "cell_type": "code",
   "execution_count": 3,
   "id": "26066c5b",
   "metadata": {
    "execution": {
     "iopub.execute_input": "2023-11-06T07:24:20.386738Z",
     "iopub.status.busy": "2023-11-06T07:24:20.385652Z",
     "iopub.status.idle": "2023-11-06T07:24:20.394684Z",
     "shell.execute_reply": "2023-11-06T07:24:20.393102Z"
    },
    "papermill": {
     "duration": 0.014996,
     "end_time": "2023-11-06T07:24:20.397173",
     "exception": false,
     "start_time": "2023-11-06T07:24:20.382177",
     "status": "completed"
    },
    "tags": []
   },
   "outputs": [
    {
     "name": "stdout",
     "output_type": "stream",
     "text": [
      "Actual array :  [ 1  2  3  4  5  6  7  8  9 10] \n",
      "Mean :  5.5 \n",
      "Standard deviation :  2.8722813232690143 \n",
      "Variance :  8.25\n"
     ]
    }
   ],
   "source": [
    "# Code by : Chhayank Thanki (216270307017)\n",
    "\n",
    "# Practical(5) - Problem - 2 - To compute the mean, standard deviation, and variance of a given array along the second axis\n",
    "\n",
    "# Importing needed libreries \n",
    "import numpy as numpy # To perform numeric operations\n",
    "\n",
    "print(\"Actual array : \", numpy.arange(1, 11), \"\\nMean : \", numpy.mean(numpy.arange(1, 11)), \"\\nStandard deviation : \", numpy.std(numpy.arange(1, 11)), \"\\nVariance : \", numpy.var(numpy.arange(1, 11)))"
   ]
  }
 ],
 "metadata": {
  "kernelspec": {
   "display_name": "Python 3",
   "language": "python",
   "name": "python3"
  },
  "language_info": {
   "codemirror_mode": {
    "name": "ipython",
    "version": 3
   },
   "file_extension": ".py",
   "mimetype": "text/x-python",
   "name": "python",
   "nbconvert_exporter": "python",
   "pygments_lexer": "ipython3",
   "version": "3.10.12"
  },
  "papermill": {
   "default_parameters": {},
   "duration": 4.020686,
   "end_time": "2023-11-06T07:24:20.820225",
   "environment_variables": {},
   "exception": null,
   "input_path": "__notebook__.ipynb",
   "output_path": "__notebook__.ipynb",
   "parameters": {},
   "start_time": "2023-11-06T07:24:16.799539",
   "version": "2.4.0"
  }
 },
 "nbformat": 4,
 "nbformat_minor": 5
}
